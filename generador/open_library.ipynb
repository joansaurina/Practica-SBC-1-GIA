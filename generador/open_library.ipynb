{
 "cells": [
  {
   "cell_type": "markdown",
   "metadata": {},
   "source": [
    "## Books database generator."
   ]
  },
  {
   "cell_type": "markdown",
   "metadata": {},
   "source": [
    "##### Packages needed:"
   ]
  },
  {
   "cell_type": "code",
   "execution_count": 1,
   "metadata": {},
   "outputs": [],
   "source": [
    "import requests\n",
    "import json\n",
    "import pandas as pd\n",
    "from itables import show\n",
    "import numpy as np"
   ]
  },
  {
   "cell_type": "markdown",
   "metadata": {},
   "source": [
    "##### Funció per obtenir els llibres:"
   ]
  },
  {
   "cell_type": "code",
   "execution_count": 135,
   "metadata": {},
   "outputs": [],
   "source": [
    "# Función para obtener libros de ficción\n",
    "def obtener_libros(num_paginas=150, genero = 'social'):\n",
    "    libros = []\n",
    "    for i in range(1, num_paginas + 1):  # Paginando a través de los resultados\n",
    "        url = f'https://openlibrary.org/subjects/{genero}.json?page={i}'\n",
    "        respuesta = requests.get(url)\n",
    "        if respuesta.status_code == 200:\n",
    "            datos = respuesta.json()\n",
    "            libros.extend(datos['works'])  # Añadiendo libros a la lista\n",
    "        else:\n",
    "            print(f'Error: {respuesta.status_code}')\n",
    "    return libros"
   ]
  },
  {
   "cell_type": "markdown",
   "metadata": {},
   "source": [
    "##### Subgèneres i subsubgèneres que es busca:"
   ]
  },
  {
   "cell_type": "code",
   "execution_count": 136,
   "metadata": {},
   "outputs": [
    {
     "name": "stdout",
     "output_type": "stream",
     "text": [
      "Realistic: social, psychological, manners\n",
      "Historical: medieval, ancient civilization, world war\n",
      "Romantic: contemporary romance, historical romance, paranormal romance\n",
      "Science Fiction: space opera, dystopian fiction, cyberpunk\n",
      "Fantasy: high fantasy, low fantasy, urban fantasy\n",
      "Adventure: pirate, travel, exploration\n"
     ]
    }
   ],
   "source": [
    "# Create a dictionary of subgenres and subsubgenres\n",
    "literary_genres = {\n",
    "    \"Realistic\": [\"social\", \"psychological\", \"manners\"],\n",
    "    \"Historical\": [\"medieval\", \"ancient civilization\", \"world war\"],\n",
    "    \"Romantic\": [\"contemporary romance\", \"historical romance\", \"paranormal romance\"],\n",
    "    \"Science Fiction\": [\"space opera\", \"dystopian fiction\", \"cyberpunk\"],\n",
    "    \"Fantasy\": [\"high fantasy\", \"low fantasy\", \"urban fantasy\"],\n",
    "    \"Adventure\": [\"pirate\", \"travel\", \"exploration\"]\n",
    "}\n",
    "\n",
    "# Print the dictionary\n",
    "for subgenre, subsubgenres in literary_genres.items():\n",
    "    print(f\"{subgenre}: {', '.join(subsubgenres)}\")\n"
   ]
  },
  {
   "cell_type": "code",
   "execution_count": 137,
   "metadata": {},
   "outputs": [
    {
     "name": "stdout",
     "output_type": "stream",
     "text": [
      "Realistic social\n",
      "Realistic psychological\n",
      "Realistic manners\n",
      "Historical medieval\n",
      "Historical ancient civilization\n",
      "Historical world war\n",
      "Romantic contemporary romance\n",
      "Romantic historical romance\n",
      "Romantic paranormal romance\n",
      "Science Fiction space opera\n",
      "Science Fiction dystopian fiction\n",
      "Science Fiction cyberpunk\n",
      "Fantasy high fantasy\n",
      "Fantasy low fantasy\n",
      "Fantasy urban fantasy\n",
      "Adventure pirate\n",
      "Adventure travel\n",
      "Adventure exploration\n"
     ]
    }
   ],
   "source": [
    "libros = {}\n",
    "for key in literary_genres.keys():\n",
    "    for value in literary_genres[key]:\n",
    "        print(key,value)\n",
    "        libros[(key,value)] = obtener_libros(20,genero = value)\n",
    "       \n"
   ]
  },
  {
   "cell_type": "markdown",
   "metadata": {},
   "source": [
    "##### Construcció del dataframe:"
   ]
  },
  {
   "cell_type": "code",
   "execution_count": 139,
   "metadata": {},
   "outputs": [],
   "source": [
    "# Assuming books_dict is your dictionary\n",
    "rows = []  # This list will hold all the rows\n",
    "\n",
    "# Iterate through the dictionary\n",
    "for genre_subgenre, books in libros.items():\n",
    "    genre, subgenre = genre_subgenre  # Unpack the tuple into genre and subgenre\n",
    "\n",
    "    # Iterate through each book in the list\n",
    "    for book in books:\n",
    "        # Create a row for each book\n",
    "        row = {\n",
    "            'genre': genre,\n",
    "            'subgenre': subgenre,\n",
    "            'key': book['key'],\n",
    "            'title': book['title'],\n",
    "            'edition_count': book['edition_count'],\n",
    "            'cover_id': book['cover_id'],\n",
    "            'cover_edition_key': book['cover_edition_key'],\n",
    "            'subject': book['subject'],\n",
    "            'ia_collection': book['ia_collection'],\n",
    "            'lendinglibrary': book['lendinglibrary'],\n",
    "            'printdisabled': book['printdisabled'],\n",
    "            'lending_edition': book['lending_edition'],\n",
    "            'lending_identifier': book['lending_identifier'],\n",
    "            'authors': book['authors'],\n",
    "            'first_publish_year': book['first_publish_year'],\n",
    "            'ia': book['ia'],\n",
    "            'public_scan': book['public_scan'],\n",
    "            'has_fulltext': book['has_fulltext'],\n",
    "        }\n",
    "        rows.append(row)  # Append the row to the rows list\n"
   ]
  },
  {
   "cell_type": "code",
   "execution_count": 156,
   "metadata": {},
   "outputs": [],
   "source": [
    "# Assuming rows is the list of dictionaries we created earlier\n",
    "df = pd.DataFrame(rows)"
   ]
  },
  {
   "cell_type": "markdown",
   "metadata": {},
   "source": [
    "##### Preprocessament del dataframe:"
   ]
  },
  {
   "cell_type": "markdown",
   "metadata": {},
   "source": [
    "##### eliminar columnes que no aporten informació rellevant:"
   ]
  },
  {
   "cell_type": "code",
   "execution_count": 157,
   "metadata": {},
   "outputs": [],
   "source": [
    "columns_to_drop = ['key','edition_count', 'cover_id', 'cover_edition_key', 'ia_collection','lendinglibrary',\n",
    "                   'printdisabled','lending_edition', 'lending_identifier', 'ia', 'public_scan', 'subject']\n",
    "df.drop(columns =columns_to_drop, inplace = True)"
   ]
  },
  {
   "cell_type": "markdown",
   "metadata": {},
   "source": [
    "##### canviar format de la columna author:"
   ]
  },
  {
   "cell_type": "code",
   "execution_count": 158,
   "metadata": {},
   "outputs": [],
   "source": [
    "# Assuming df is your DataFrame\n",
    "def extract_author_name(authors_list):\n",
    "    # Check if the list is not empty\n",
    "    if authors_list:\n",
    "        return authors_list[0].get('name', None)\n",
    "    return None\n",
    "\n",
    "# Apply the function to the 'authors' column\n",
    "df['authors'] = df['authors'].apply(extract_author_name)"
   ]
  },
  {
   "cell_type": "markdown",
   "metadata": {},
   "source": [
    "##### comprovar si hi ha llibres repetits:"
   ]
  },
  {
   "cell_type": "code",
   "execution_count": 159,
   "metadata": {},
   "outputs": [
    {
     "name": "stdout",
     "output_type": "stream",
     "text": [
      "Repeated Titles:\n",
      "The Magic School Bus                  40\n",
      "Pride and Prejudice                   40\n",
      "Zur Genealogie der Moral              20\n",
      "The Lost Thorn                        20\n",
      "Among the Barons (Shadow Children)    20\n",
      "                                      ..\n",
      "Sea Swept                             20\n",
      "Chesapeake Blue                       20\n",
      "Four Blondes                          20\n",
      "Inner Harbor                          20\n",
      "Universe                              20\n",
      "Name: title, Length: 203, dtype: int64\n"
     ]
    }
   ],
   "source": [
    "# Checking and printing repeated titles\n",
    "title_counts = df['title'].value_counts()\n",
    "repeated_titles = title_counts[title_counts > 1]\n",
    "print(\"Repeated Titles:\")\n",
    "print(repeated_titles)\n",
    "\n",
    "# Retaining only one instance of each repeated title\n",
    "df = df.drop_duplicates(subset='title', keep='first')\n",
    "\n",
    "# Optionally, if you want to reset the index after dropping duplicates\n",
    "df.reset_index(drop=True, inplace=True)"
   ]
  },
  {
   "cell_type": "markdown",
   "metadata": {},
   "source": [
    "##### Eliminar llibres amb títols que no segeueixen el format."
   ]
  },
  {
   "cell_type": "code",
   "execution_count": 160,
   "metadata": {},
   "outputs": [],
   "source": [
    "rows_to_drop = df[\n",
    "    (df['title'] == 'Преступление и наказание') |\n",
    "    (df['title'] == \"Works (Awakening / Beyond the Bayou / Desiree's Baby / Kiss / Locket / Ma'ame Pelagie / Pair of Silk Stockings / Reflection / Respectable Woman)\") |\n",
    "    (df['title'] == \"Novels (Emma / Mansfield Park / Northanger Abbey / Persuasion / Pride and Prejudice / Sense and Sensibility)\") |\n",
    "    (df['title'] == \"Novels (Emma / Lady Susan / Mansfield Park / Northanger Abbey / Persuasion / Pride and Prejudice / Sense and Sensibility)\") |\n",
    "    (df['title'] == \"Novels (Emma / Pride and Prejudice / Sense and Sensibility)\") |\n",
    "    (df['title'] == \"Novels (Mansfield Park / Persuasion / Pride and Prejudice)\")\n",
    "].index\n",
    "df = df.drop(rows_to_drop)\n",
    "\n",
    "# Optionally, reset the index after dropping rows if needed\n",
    "df.reset_index(drop=True, inplace=True)\n"
   ]
  },
  {
   "cell_type": "markdown",
   "metadata": {},
   "source": [
    "##### comprovar si hi ha NA:"
   ]
  },
  {
   "cell_type": "code",
   "execution_count": 164,
   "metadata": {},
   "outputs": [
    {
     "name": "stdout",
     "output_type": "stream",
     "text": [
      "No hay valores NA en el DataFrame.\n"
     ]
    }
   ],
   "source": [
    "# Revisando si hay valores NA y eliminando las filas que los contengan\n",
    "if df.isna().any().any():\n",
    "    print(\"Hay valores NA en el DataFrame. Se eliminarán las filas correspondientes.\")\n",
    "    df = df.dropna()\n",
    "else:\n",
    "    print(\"No hay valores NA en el DataFrame.\")\n",
    "\n",
    "# Restablecer el índice después de eliminar las filas, si es necesario\n",
    "df.reset_index(drop=True, inplace=True)\n",
    "\n"
   ]
  },
  {
   "cell_type": "markdown",
   "metadata": {},
   "source": [
    "##### llibre que té un ; que no va bé per clips:"
   ]
  },
  {
   "cell_type": "code",
   "execution_count": null,
   "metadata": {},
   "outputs": [],
   "source": [
    "# Define a custom function to remove semicolons\n",
    "def remove_semicolons(title):\n",
    "    if title.startswith('Frankenstein'):\n",
    "        return title.replace(';', '')\n",
    "    else:\n",
    "        return title\n",
    "\n",
    "# Apply the custom function to the 'title' column\n",
    "df['title'] = df['title'].apply(remove_semicolons)\n"
   ]
  },
  {
   "cell_type": "markdown",
   "metadata": {},
   "source": [
    "##### es geneneren noves variables que segueixen una distribució normal per cada subgènere:"
   ]
  },
  {
   "cell_type": "code",
   "execution_count": 180,
   "metadata": {},
   "outputs": [],
   "source": [
    "# Definir semillas para reproducibilidad\n",
    "np.random.seed(23122003)\n",
    "\n",
    "def generate_values(sub_df):\n",
    "    # Aumenta la escala para obtener más variabilidad en 'Pages'. Ajusta loc y scale según tus necesidades.\n",
    "    sub_df['Pages'] = np.random.normal(loc=350, scale=150, size=len(sub_df)).astype(int)\n",
    "    \n",
    "    # Asegurarte de que 'Pages' no tenga valores negativos\n",
    "    sub_df['Pages'] = sub_df['Pages'].apply(lambda x: max(1, x)) # Asegurando un mínimo de 1 página\n",
    "    \n",
    "    sub_df['Rating (0-5)'] = np.random.normal(loc=3.5, scale=0.5, size=len(sub_df)).round(1)\n",
    "    sub_df['Rating (0-5)'] = sub_df['Rating (0-5)'].clip(lower=0, upper=5)\n",
    "    \n",
    "    sub_df['Number of Characters'] = np.random.normal(loc=57.5, scale=20, size=len(sub_df)).astype(int)\n",
    "    sub_df['Number of Characters'] = sub_df['Number of Characters'].clip(lower=15, upper=100)\n",
    "    \n",
    "    # Suponiendo un rango de 1 a 52 semanas.\n",
    "    sub_df['Weeks on Best-Seller List'] = np.random.normal(loc=26, scale=15, size=len(sub_df)).astype(int)\n",
    "    sub_df['Weeks on Best-Seller List'] = sub_df['Weeks on Best-Seller List'].clip(lower=1, upper=52) # Asegurando un rango de 1 a 52 semanas\n",
    "    \n",
    "    return sub_df\n",
    "\n",
    "# Agrupar por subgénero y aplicar la función de generación de valores\n",
    "df = df.groupby('subgenre').apply(generate_values).reset_index(drop=True)"
   ]
  },
  {
   "cell_type": "markdown",
   "metadata": {},
   "source": [
    "##### S'afageix una columna del públic al qual està destinat el llibre."
   ]
  },
  {
   "cell_type": "code",
   "execution_count": 5,
   "metadata": {},
   "outputs": [],
   "source": [
    "publicos = ['Infantes', 'Adolescentes', 'Adulto-Joven', 'Adulto', 'Ancianos']\n",
    "\n",
    "# Añadir una columna de estilo al DataFrame\n",
    "df['Publico'] = np.random.choice(publicos, size=len(df))\n"
   ]
  },
  {
   "cell_type": "markdown",
   "metadata": {},
   "source": [
    "##### Dataframe de autors:"
   ]
  },
  {
   "cell_type": "code",
   "execution_count": 3,
   "metadata": {},
   "outputs": [],
   "source": [
    "df = pd.read_csv('llibres.csv')"
   ]
  },
  {
   "cell_type": "code",
   "execution_count": 6,
   "metadata": {},
   "outputs": [],
   "source": [
    "autores_dict = df['authors'].value_counts().to_dict()"
   ]
  },
  {
   "cell_type": "code",
   "execution_count": 7,
   "metadata": {},
   "outputs": [],
   "source": [
    "# Calculando métricas promedio por autor\n",
    "author_group = df.groupby('authors')\n",
    "\n",
    "# Calcula el promedio de las columnas numéricas\n",
    "average_metrics = author_group[['Pages', 'Rating (0-5)', 'Number of Characters', 'minutes_to_read', 'Weeks on Best-Seller List', 'first_publish_year']].mean().round(2)\n",
    "\n",
    "# Encuentra el género, subgénero y estilo de escritura más común por autor\n",
    "common_genre = author_group['genre'].agg(lambda x:x.value_counts().index[0])\n",
    "common_subgenre = author_group['subgenre'].agg(lambda x:x.value_counts().index[0])\n",
    "common_writting_style = author_group['Estilo de Escritura'].agg(lambda x:x.value_counts().index[0])\n",
    "\n",
    "# Crear un DataFrame de autores con la información calculada\n",
    "authors_df = pd.concat([average_metrics, common_genre, common_subgenre, common_writting_style], axis=1)\n",
    "authors_df.columns = ['Average Pages', 'Average Rating (0-5)', 'Average Number of Characters', 'Average Minutes to Read', 'Average Weeks on Best-Seller List','Publishing_year_average', 'Most Common Genre', 'Most Common Subgenre', 'Most Common Writting Style']\n",
    "\n",
    "# Resetear el índice para tener 'authors' como una columna\n",
    "authors_df.reset_index(inplace=True)\n"
   ]
  },
  {
   "cell_type": "code",
   "execution_count": 8,
   "metadata": {},
   "outputs": [],
   "source": [
    "authors_df.to_csv('autors.csv')\n",
    "df.to_csv('llibres.csv')"
   ]
  }
 ],
 "metadata": {
  "kernelspec": {
   "display_name": "Python 3",
   "language": "python",
   "name": "python3"
  },
  "language_info": {
   "codemirror_mode": {
    "name": "ipython",
    "version": 3
   },
   "file_extension": ".py",
   "mimetype": "text/x-python",
   "name": "python",
   "nbconvert_exporter": "python",
   "pygments_lexer": "ipython3",
   "version": "3.10.5"
  },
  "orig_nbformat": 4
 },
 "nbformat": 4,
 "nbformat_minor": 2
}
