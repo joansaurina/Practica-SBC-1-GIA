{
 "cells": [
  {
   "cell_type": "markdown",
   "metadata": {},
   "source": [
    "# Notebook para crear instancias de usuarios antiguos"
   ]
  },
  {
   "cell_type": "code",
   "execution_count": 4,
   "metadata": {},
   "outputs": [],
   "source": [
    "import pandas as pd\n",
    "import numpy as np\n",
    "import matplotlib.pyplot as plt\n",
    "import seaborn as sns\n",
    "import random\n"
   ]
  },
  {
   "cell_type": "code",
   "execution_count": 2,
   "metadata": {},
   "outputs": [],
   "source": [
    "df1 = pd.read_csv('llibres.csv')\n",
    "df1.drop(columns='Unnamed: 0', inplace =True)\n",
    "df1.drop(columns='Unnamed: 0.1', inplace =True)\n",
    "df1.drop(columns='Unnamed: 0.2', inplace =True)\n",
    "df1.drop(columns='Unnamed: 0.3', inplace =True)\n",
    "\n",
    "df2 = pd.read_csv('authors_on_cluster.csv')\n",
    "df2.drop(columns='Unnamed: 0', inplace =True)\n",
    "df2.drop(columns='Unnamed: 0.1', inplace =True)"
   ]
  },
  {
   "cell_type": "code",
   "execution_count": 3,
   "metadata": {},
   "outputs": [],
   "source": [
    "literary_genres = {\n",
    "    \"Realistic\": [\"social\", \"psychological\", \"manners\"],\n",
    "    \"Historical\": [\"medieval\", \"ancient civilization\", \"world war\"],\n",
    "    \"Romantic\": [\"contemporary romance\", \"historical romance\", \"paranormal romance\"],\n",
    "    \"Science Fiction\": [\"space opera\", \"dystopian fiction\", \"cyberpunk\"],\n",
    "    \"Fantasy\": [\"high fantasy\", \"low fantasy\", \"urban fantasy\"],\n",
    "    \"Adventure\": [\"pirate\", \"travel\", \"exploration\"]\n",
    "}\n",
    "\n"
   ]
  },
  {
   "cell_type": "code",
   "execution_count": 7,
   "metadata": {},
   "outputs": [],
   "source": [
    "\n",
    "def generar_clips_file(libros, num_instances=10, filename=\"usuarios_pasados.clp\"):\n",
    "    literary_genres = {\n",
    "        \"Realistic\": [\"social\", \"psychological\", \"manners\"],\n",
    "        \"Historical\": [\"medieval\", \"ancient civilization\", \"world war\"],\n",
    "        \"Romantic\": [\"contemporary romance\", \"historical romance\", \"paranormal romance\"],\n",
    "        \"Science Fiction\": [\"space opera\", \"dystopian fiction\", \"cyberpunk\"],\n",
    "        \"Fantasy\": [\"high fantasy\", \"low fantasy\", \"urban fantasy\"],\n",
    "        \"Adventure\": [\"pirate\", \"travel\", \"exploration\"]\n",
    "    }\n",
    "    \n",
    "    lugares = [\"Transporte publico\", \"Casa\", \"Parque\",\"Cafeteria\", \"Cualquiera\"]\n",
    "    momentos = [\"Manana\", \"Tarde\", \"Noche\", \"Cualquiera\"]\n",
    "    simbolos = [\"FALSE\", \"TRUE\"]\n",
    "    \n",
    "    with open(filename, \"w\") as file:\n",
    "        file.write('(definstances instances\\n')\n",
    "\n",
    "        for i in range(num_instances):\n",
    "            selected_genre, subgenres = random.choice(list(literary_genres.items()))\n",
    "            selected_index = random.randint(0, len(libros)-1)\n",
    "            selected_book = libros.iloc[selected_index]['title']\n",
    "            selected_author = libros.iloc[selected_index]['authors']\n",
    "            \n",
    "            dicc_libros = {libros.iloc[i]['title']: f'Libro_Class_{i}' for i in range(len(libros))}\n",
    "            dicc_autores = {libros.iloc[i]['authors']: f'Autor_Class_{i}' for i in range(len(libros))}\n",
    "            \n",
    "            file.write(f\"([Usuario_pasado_{i+1}] of Usuario_pasado\\n\")\n",
    "            file.write(f\"    (libro_leido [{dicc_libros[selected_book]}])\\n\")\n",
    "            file.write(f\"    (puntuacion {random.randint(1, 50)})\\n\")\n",
    "            file.write(f\"    (genero \\\"{selected_genre}\\\")\\n\")\n",
    "            file.write(f\"    (subgenero {random.choices(subgenres, k=2)})\\n\")\n",
    "            file.write(f\"    (autor [{dicc_autores[selected_author]}])\\n\")\n",
    "            file.write(f\"    (tiempo_total {random.randint(1, 20)})\\n\")\n",
    "            file.write(f\"    (tiempo_diario {random.randint(1,60 )})\\n\")\n",
    "            file.write(f\"    (lugar \\\"{random.choice(lugares)}\\\")\\n\")\n",
    "            file.write(f\"    (momento \\\"{random.choice(momentos)}\\\")\\n\")\n",
    "            file.write(f\"    (se_fija_valoraciones {random.choice(simbolos)})\\n\")\n",
    "            file.write(f\"    (modas {random.choice(simbolos)})\\n\")\n",
    "            file.write(f\"    (edad {random.randint(1, 99)})\\n\")\n",
    "            file.write(f\"    (tiempo_lectura {random.randint(50, 120)})\\n\")\n",
    "            file.write(f\"    (decada {random.choices(range(1900, 2000, 10), k=2)})\\n\")\n",
    "            file.write(\")\\n\\n\")\n",
    "        \n",
    "        file.write(')\\n')\n",
    "\n",
    "# Generar un fichero con 10 instancias\n",
    "generar_clips_file(libros=df1)\n",
    "\n",
    "\n",
    "    "
   ]
  }
 ],
 "metadata": {
  "kernelspec": {
   "display_name": "Python 3",
   "language": "python",
   "name": "python3"
  },
  "language_info": {
   "codemirror_mode": {
    "name": "ipython",
    "version": 3
   },
   "file_extension": ".py",
   "mimetype": "text/x-python",
   "name": "python",
   "nbconvert_exporter": "python",
   "pygments_lexer": "ipython3",
   "version": "3.10.5"
  }
 },
 "nbformat": 4,
 "nbformat_minor": 2
}
