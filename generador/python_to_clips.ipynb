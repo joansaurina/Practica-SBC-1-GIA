{
 "cells": [
  {
   "cell_type": "markdown",
   "metadata": {},
   "source": [
    "## Python to clips generator"
   ]
  },
  {
   "cell_type": "code",
   "execution_count": 1,
   "metadata": {},
   "outputs": [],
   "source": [
    "import pandas as pd"
   ]
  },
  {
   "cell_type": "code",
   "execution_count": 2,
   "metadata": {},
   "outputs": [],
   "source": [
    "df1 = pd.read_csv('llibres.csv')\n",
    "df1.drop(columns='Unnamed: 0', inplace =True)\n",
    "df1.drop(columns='Unnamed: 0.1', inplace =True)\n",
    "df1.drop(columns='Unnamed: 0.2', inplace =True)\n",
    "df1.drop(columns='Unnamed: 0.3', inplace =True)\n",
    "\n",
    "df2 = pd.read_csv('authors_on_cluster.csv')\n",
    "df2.drop(columns='Unnamed: 0', inplace =True)\n",
    "df2.drop(columns='Unnamed: 0.1', inplace =True)"
   ]
  },
  {
   "cell_type": "code",
   "execution_count": 5,
   "metadata": {},
   "outputs": [],
   "source": [
    "# Create a dictionary of subgenres and subsubgenres\n",
    "literary_genres = {\n",
    "    \"Realistic\": [\"social\", \"psychological\", \"manners\"],\n",
    "    \"Historical\": [\"medieval\", \"ancient civilization\", \"world war\"],\n",
    "    \"Romantic\": [\"contemporary romance\", \"historical romance\", \"paranormal romance\"],\n",
    "    \"Science Fiction\": [\"space opera\", \"dystopian fiction\", \"cyberpunk\"],\n",
    "    \"Fantasy\": [\"high fantasy\", \"low fantasy\", \"urban fantasy\"],\n",
    "    \"Adventure\": [\"pirate\", \"travel\", \"exploration\"]\n",
    "}\n",
    "\n",
    "#estilos = ['Narrativa en primera persona', 'Narrativa en tercera persona', 'Monólogo interior', 'Estilo experimental', 'Estilo epistolar', 'Estilo minimalista', 'Estilo descriptivo', 'Narrativa en segunda persona']\n"
   ]
  },
  {
   "cell_type": "code",
   "execution_count": 6,
   "metadata": {},
   "outputs": [],
   "source": [
    "def conocimiento_a_clips(libros , autores, fichero = 'instances.clp', generos = {}):\n",
    "    \n",
    "    #Creación de diccionarios con valor identificativo para cada instancia.\n",
    "    dicc_libros = {}\n",
    "    for index, row in libros.iterrows():\n",
    "        dicc_libros[row['title']] = f'Libro_Class_{index}'\n",
    "    \n",
    "    dicc_autores = {}\n",
    "    for index, row in autores.iterrows():\n",
    "        dicc_autores[row['authors']] = f'Autor_Class_{index}'\n",
    "    \n",
    "    dicc_generos = {}\n",
    "    dicc_subgeneros = {}\n",
    "\n",
    "    for index,value in enumerate(generos.keys()):\n",
    "        dicc_generos[value] = f'Genero_Class_{index}'\n",
    "    \n",
    "        for index_2,value_2 in enumerate(generos[value]):\n",
    "            dicc_subgeneros[value_2] = f'Subgenero_Class_{index*len(generos[value]) +index_2}'\n",
    "        \n",
    "    #Abrir un archivo en modo de escritura con codificación utf-8. Si el archivo no existe, será creado.\n",
    "    with open(fichero, 'w', encoding='utf-8') as file:\n",
    "        file.write('(definstances instances\\n')\n",
    "        \n",
    "        #GENEROS\n",
    "        for index, key in enumerate(generos.keys()):\n",
    "\n",
    "            genero_instance = f\"\"\"\n",
    "        ([{dicc_generos[key]}] of Genero\n",
    "            (nombre \"{key}\")\n",
    "        )\"\"\"\n",
    "\n",
    "            # Escribir la instancia en el archivo\n",
    "            file.write(genero_instance + '\\n')\n",
    "        \n",
    "        #SUBGENEROS\n",
    "        for key in generos.keys():\n",
    "            for value in generos[key]:\n",
    "                \n",
    "                #Supergenero\n",
    "                supergenero = dicc_generos[key]\n",
    "\n",
    "                subgenero_instance = f\"\"\"\n",
    "        ([{dicc_subgeneros[value]}] of Subgenero\n",
    "\n",
    "            (nombre \"{value}\")\n",
    "            (subgenero_de [{supergenero}])\n",
    "        )\"\"\"\n",
    "                # Escribir la instancia en el archivo\n",
    "                file.write(subgenero_instance + '\\n')\n",
    "        \n",
    "        #LIBROS\n",
    "        for index, row in libros.iterrows():\n",
    "\n",
    "            libro_instance = f\"\"\"\n",
    "        ([{dicc_libros[row['title']]}] of Libro\n",
    "            (genero_de [{dicc_generos[row['genre']]}])\n",
    "            (subgenero_de [{dicc_subgeneros[row['subgenre']]}])\n",
    "            (nombre \"{row['title']}\")\n",
    "            (escrito_por [{dicc_autores[row['authors']]}])\n",
    "            (publicacion {int(row['first_publish_year'])})\n",
    "            (valoracion {row['Rating (0-5)']})\n",
    "            (paginas {row['Pages']})\n",
    "            (popularidad {row['Weeks on Best-Seller List']})\n",
    "            (complejidad {row['Number of Characters']})\n",
    "            (estilo \"{row['Estilo de Escritura']}\")\n",
    "            (publico \"{row['Publico']}\")\n",
    "        )\"\"\"\n",
    "            # Escribir la instancia en el archivo\n",
    "            file.write(libro_instance + '\\n')\n",
    "\n",
    "        #AUTORES\n",
    "        for index, row in autores.iterrows():\n",
    "            # Lista de libros\n",
    "            filtered_df = libros[libros['authors'] == row['authors']]\n",
    "            \n",
    "            author_instance = f\"\"\"\n",
    "        ([Autor_Class_{index}] of Autor\n",
    "            (escribe_subgenero [{dicc_subgeneros[row['Most Common Subgenre']]}])\n",
    "            (nombre \"{row['authors']}\")\n",
    "            (cluster \"{row['Cluster']}\")\n",
    "        )\"\"\"\n",
    "            # Escribir la instancia en el archivo\n",
    "            file.write(author_instance + '\\n')\n",
    "        \n",
    "        # Escribir el final del bloque definstances\n",
    "        file.write(')\\n')\n"
   ]
  },
  {
   "cell_type": "code",
   "execution_count": 8,
   "metadata": {},
   "outputs": [],
   "source": [
    "conocimiento_a_clips(libros = df1,autores = df2, generos = literary_genres)"
   ]
  }
 ],
 "metadata": {
  "kernelspec": {
   "display_name": "Python 3",
   "language": "python",
   "name": "python3"
  },
  "language_info": {
   "codemirror_mode": {
    "name": "ipython",
    "version": 3
   },
   "file_extension": ".py",
   "mimetype": "text/x-python",
   "name": "python",
   "nbconvert_exporter": "python",
   "pygments_lexer": "ipython3",
   "version": "3.10.5"
  }
 },
 "nbformat": 4,
 "nbformat_minor": 2
}
